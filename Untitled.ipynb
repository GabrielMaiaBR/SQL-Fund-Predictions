{
 "cells": [
  {
   "cell_type": "code",
   "execution_count": 1,
   "id": "ed7c9f68",
   "metadata": {},
   "outputs": [
    {
     "name": "stdout",
     "output_type": "stream",
     "text": [
      "Erro Quadrático Médio (MSE): 6.737265382697221e+17\n",
      "Erro Absoluto Médio (MAE): 3781947.1374844383\n",
      "Coeficiente de Determinação (R²): 0.9176542190544932\n",
      "             VL_TOTAL    VL_QUOTA  CAPTC_DIA   RESG_DIA  VL_PATRIM_LIQ_Real  \\\n",
      "6934081  1.661502e+08    1.203900       0.00       0.00        1.660662e+08   \n",
      "7437127  7.091140e+07  192.517172       0.00  294987.70        7.090804e+07   \n",
      "8386572  6.367144e+06    1.866109  222000.00       0.00        6.286245e+06   \n",
      "6162326  3.842859e+07    9.592870       0.00       0.00        3.883076e+07   \n",
      "7113461  3.310144e+06    0.492064       0.00       0.00        3.271608e+06   \n",
      "...               ...         ...        ...        ...                 ...   \n",
      "3512373  5.316066e+07   95.337686   16354.92  170366.75        5.338429e+07   \n",
      "9569237  9.292224e+07    1.181702       0.00   73007.02        9.357000e+07   \n",
      "4207488  2.780934e+09    8.868864   91759.41  854751.21        2.779691e+09   \n",
      "8673161  3.920177e+08    1.163341       0.00       0.00        3.917852e+08   \n",
      "2119152  1.338055e+07   99.230409       0.00       0.00        1.310948e+07   \n",
      "\n",
      "         VL_PATRIM_LIQ_Predito  \n",
      "6934081           1.659776e+08  \n",
      "7437127           7.083836e+07  \n",
      "8386572           6.372815e+06  \n",
      "6162326           3.839470e+07  \n",
      "7113461           3.314405e+06  \n",
      "...                        ...  \n",
      "3512373           5.310889e+07  \n",
      "9569237           9.282820e+07  \n",
      "4207488           2.777911e+09  \n",
      "8673161           3.915997e+08  \n",
      "2119152           1.337388e+07  \n",
      "\n",
      "[2449433 rows x 6 columns]\n"
     ]
    }
   ],
   "source": [
    "import pandas as pd\n",
    "from sklearn.model_selection import train_test_split\n",
    "from sklearn.linear_model import LinearRegression\n",
    "from sklearn.metrics import mean_squared_error, mean_absolute_error, r2_score\n",
    "\n",
    "# Carregar os dados do CSV especificando o separador correto\n",
    "df = pd.read_csv('PlanilhaFinal.csv', sep=';', names=['VL_TOTAL', 'VL_QUOTA', 'CAPTC_DIA', 'RESG_DIA', 'VL_PATRIM_LIQ'])\n",
    "\n",
    "# Definindo as características (features) e a variável alvo (target)\n",
    "features = ['VL_TOTAL', 'VL_QUOTA', 'CAPTC_DIA', 'RESG_DIA']\n",
    "target = 'VL_PATRIM_LIQ'\n",
    "\n",
    "# Separando em variáveis independentes (X) e dependente (y)\n",
    "X = df[features]\n",
    "y = df[target]\n",
    "\n",
    "# Dividindo os dados em conjuntos de treino e teste\n",
    "X_train, X_test, y_train, y_test = train_test_split(X, y, test_size=0.2, random_state=42)\n",
    "\n",
    "# Criando o modelo de regressão linear\n",
    "model = LinearRegression()\n",
    "\n",
    "# Treinando o modelo com os dados de treino\n",
    "model.fit(X_train, y_train)\n",
    "\n",
    "# Realizando previsões no conjunto de teste\n",
    "y_pred = model.predict(X_test)\n",
    "\n",
    "# Calculando as métricas de desempenho\n",
    "mse = mean_squared_error(y_test, y_pred)\n",
    "mae = mean_absolute_error(y_test, y_pred)\n",
    "r2 = r2_score(y_test, y_pred)\n",
    "\n",
    "# Exibindo as métricas\n",
    "print(f\"Erro Quadrático Médio (MSE): {mse}\")\n",
    "print(f\"Erro Absoluto Médio (MAE): {mae}\")\n",
    "print(f\"Coeficiente de Determinação (R²): {r2}\")\n",
    "\n",
    "# Criando um novo DataFrame para exibir os resultados\n",
    "resultados = X_test.copy()\n",
    "resultados['VL_PATRIM_LIQ_Real'] = y_test\n",
    "resultados['VL_PATRIM_LIQ_Predito'] = y_pred\n",
    "\n",
    "# Exibindo os resultados\n",
    "print(resultados)\n"
   ]
  },
  {
   "cell_type": "code",
   "execution_count": null,
   "id": "7dd589be",
   "metadata": {},
   "outputs": [],
   "source": []
  }
 ],
 "metadata": {
  "kernelspec": {
   "display_name": "Python 3 (ipykernel)",
   "language": "python",
   "name": "python3"
  },
  "language_info": {
   "codemirror_mode": {
    "name": "ipython",
    "version": 3
   },
   "file_extension": ".py",
   "mimetype": "text/x-python",
   "name": "python",
   "nbconvert_exporter": "python",
   "pygments_lexer": "ipython3",
   "version": "3.11.5"
  }
 },
 "nbformat": 4,
 "nbformat_minor": 5
}
